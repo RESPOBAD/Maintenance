{
 "cells": [
  {
   "cell_type": "markdown",
   "metadata": {},
   "source": [
    "# Exective summary of Work Package 2\n",
    "\n",
    "## Objectives\n",
    "\n",
    "In this WP, you will work on a given training dataset. Your goal is to develop a fault detection model using the classification algorithms learnt in the class, in order to achieve best F1 score.\n",
    "\n",
    "## Tasks\n",
    "\n",
    "- Task 1: Develop a fault detection model using the unsupervised learning algorithms learnt in the class, in order to achieve best F1 score.\n",
    "- Task 2: With the help of the supporting script, develop a cross-validation scheme to test the performance of the developed classification algorithms.\n",
    "- Task 3: Develop a fault detection model using the classification algorithms learnt in the class, in order to achieve best F1 score.\n",
    "\n",
    "## Delierables\n",
    "\n",
    "- A Jupyter notebook reporting the process and results of the above tasks\n",
    "\n",
    "## Submission\n",
    "\n",
    "- Please name your notebook as `Group_X_WP_2.ipynb` and submit it via: https://nextcloud.centralesupelec.fr/s/HpkpA9kE4e9JJk4\n",
    "- Deadline: 14/05/2025 23:59\n"
   ]
  },
  {
   "cell_type": "markdown",
   "metadata": {},
   "source": [
    "# Task 1: Unsupervised learning approaches\n",
    "\n",
    "## Implement the statistical testing approach for fault detection\n",
    "\n",
    "In this exercise, we interpret the statistical testing approach for fault detection. The basic idea of statistical testing approach is that we fit a multi-dimensitional distribution to the observation data under normal working condition. Then, when a new data point arrives, we design a hypothesis test to see whether the new data point is consistent with the distribution. If the new data point is consistent with the distribution, we can conclude that the fault is not due to the faulty component.\n",
    "\n",
    "The benefit of this approach is that, to design the detection algrothim, we do not need failed data. Also, the computational time is short as all we need is just to compute the pdf and compare it to a threshold.\n",
    "\n",
    "In this exercise, you need to:\n",
    "- Fit a multi-dimensitional distribution to the training dataset (all normal samples).\n",
    "- Design a fault detection algorithm based on the fitted distribution to detect faulty components.\n",
    "\n",
    "The following block defines a few functions that you can use."
   ]
  },
  {
   "cell_type": "code",
   "execution_count": 1,
   "metadata": {},
   "outputs": [],
   "source": [
    "import numpy as np\n",
    "import matplotlib.pyplot as plt\n",
    "%matplotlib inline\n",
    "from scipy.stats import multivariate_normal\n",
    "\n",
    "\n",
    "def estimateGaussian(X):\n",
    "    '''Given X, this function estimates the parameter of a multivariate Gaussian distribution.'''\n",
    "    mu = np.mean(X, axis=0)\n",
    "    sigma2 = np.var(X, axis=0)\n",
    "    return mu, sigma2\n",
    "\n",
    "\n",
    "def classify(X, distribution, log_epsilon=-50):\n",
    "    '''Given X, this function classifies each sample in X based on the multivariate Gaussian distribution. \n",
    "       The decision rule is: if the log pdf is less than log_epsilon, we predict 1, as the sample is unlikely to be from the distribution, which represents normal operation.\n",
    "    '''\n",
    "    p = distribution.logpdf(X)\n",
    "    predictions = (p < log_epsilon).astype(int)\n",
    "    \n",
    "    return predictions"
   ]
  },
  {
   "cell_type": "markdown",
   "metadata": {},
   "source": [
    "Let us use the dataset `20240105_164214` as training dataset, as all the samples in this dataset are normal operation. We will use the dataset `20240325_155003` as testing dataset. Let us try to predict the state of motor 1. For this, we first extract the position, temperature and voltage of motor 1 as features (you can change the features if you want). "
   ]
  },
  {
   "cell_type": "code",
   "execution_count": 21,
   "metadata": {},
   "outputs": [],
   "source": [
    "import sys\n",
    "# sys.path.insert(0, 'C:/Users/Zhiguo/OneDrive - CentraleSupelec/Code/Python/digital_twin_robot/projects/maintenance_industry_4_2024/supporting_scripts/WP_1')\n",
    "\n",
    "from utility import read_all_csvs_one_test\n",
    "import pandas as pd\n",
    "\n",
    "base_dictionary = 'robot-predictive-maintenance-season-2024/training_data/training_data/'\n",
    "\n",
    "dictionary_name = '20240105_164214'\n",
    "path = base_dictionary + dictionary_name\n",
    "\n",
    "df_data = read_all_csvs_one_test(path, dictionary_name)\n",
    "\n",
    "X_train = df_data[['data_motor_1_position', 'data_motor_1_temperature', 'data_motor_1_voltage']]\n",
    "y_train = df_data['data_motor_1_label']\n",
    "dictionary_name = '20240325_155003'\n",
    "path = base_dictionary + dictionary_name\n",
    "\n",
    "df_data = read_all_csvs_one_test(path, dictionary_name)\n",
    "\n",
    "X_test = df_data[['data_motor_1_position', 'data_motor_1_temperature', 'data_motor_1_voltage']]\n",
    "y_test = df_data['data_motor_1_label']"
   ]
  },
  {
   "cell_type": "markdown",
   "metadata": {},
   "source": [
    "Please design your algorithm below:"
   ]
  },
  {
   "cell_type": "code",
   "execution_count": 23,
   "metadata": {},
   "outputs": [
    {
     "name": "stdout",
     "output_type": "stream",
     "text": [
      "Accuracy: 0.19422730006013228\n",
      "Precision: 0.19422730006013228\n",
      "Recall: 1.0\n",
      "F1 score: 0.3252769385699899\n"
     ]
    }
   ],
   "source": [
    "from sklearn.metrics import accuracy_score, recall_score, f1_score\n",
    "\n",
    "mu, sigma2 = estimateGaussian(X_train)\n",
    "\n",
    "distribution = multivariate_normal(mean=mu, cov=np.diag(sigma2)) #this model only learns the normal samples and not the faulty ones. This is a bad model \n",
    "\n",
    "y_pred = classify(X_test, distribution)\n",
    "\n",
    "accuracy = accuracy_score(y_test, y_pred)\n",
    "precision = precision_score(y_test, y_pred)\n",
    "recall = recall_score(y_test, y_pred)\n",
    "f1 = f1_score(y_test, y_pred)\n",
    "\n",
    "print(\"Accuracy:\", accuracy)\n",
    "print(\"Precision:\", precision)\n",
    "print(\"Recall:\", recall)\n",
    "print(\"F1 score:\", f1)"
   ]
  },
  {
   "cell_type": "markdown",
   "metadata": {},
   "source": [
    "**Discussions:**\n",
    "- Can you please try to improve the performance of this approach?\n",
    "    - For example, by normalizating the data?\n",
    "    - By smoothing the data?\n",
    "    - By reducing feature number?\n",
    "    - etc.\n",
    "- The parameter log_epsilon defines the threshold we use for making classification. What happens if you change it?\n",
    "- Could you discuss how we should get the best value for this parameter?"
   ]
  },
  {
   "cell_type": "markdown",
   "metadata": {},
   "source": []
  },
  {
   "cell_type": "markdown",
   "metadata": {},
   "source": [
    "Answer :  \n",
    "\n",
    "\n",
    "- **Normalizing the data:**  \n",
    "    The features (position, temperature, voltage) have very different scales. Normalizing or standardizing the data could potentially help the Gaussian model fit better and improve detection.\n",
    "\n",
    "- **Smoothing the data:**  \n",
    "    Applying smoothing  can reduce noise and could make the distribution estimation more robust.\n",
    "\n",
    "- **Reducing feature number:**  \n",
    "    Some features may not contribute to fault detection or may introduce noise. Thus feature selection (e.g., using only temperature and voltage or position and voltage etc) can sometimes improve performance.\n",
    "\n",
    "- **Tuning log_epsilon:**  \n",
    "    The `log_epsilon` parameter is the threshold for classifying a sample as faulty. Lowering it makes the model less sensitive (fewer faults detected, more false negatives), while increasing it makes the model more sensitive (more faults detected, more false positives).\n",
    "\n",
    "- **How to get the best value for log_epsilon:**  \n",
    "    Use a validation set or cross-validation to try different values of `log_epsilon` and select the one that gives the best F1 score or desired trade-off between precision and recall.\n",
    "\n",
    "In summary, data normalization, smoothing, feature selection, and careful threshold tuning can all help improve the performance of this approach."
   ]
  },
  {
   "cell_type": "code",
   "execution_count": 5,
   "metadata": {},
   "outputs": [
    {
     "name": "stdout",
     "output_type": "stream",
     "text": [
      "Accuracy after normalization: 0.19422730006013228\n",
      "Recall after normalization: 1.0\n",
      "F1 score after normalization: 0.3252769385699899\n"
     ]
    }
   ],
   "source": [
    "from sklearn.preprocessing import StandardScaler\n",
    "from sklearn.metrics import recall_score, f1_score, precision_score\n",
    "\n",
    "# normalize the data\n",
    "scaler = StandardScaler()\n",
    "X_train_norm = scaler.fit_transform(X_train)\n",
    "X_test_norm = scaler.transform(X_test)\n",
    "\n",
    "# fit a multivariate Gaussian distribution to the normalized normal samples\n",
    "mu_norm, sigma2_norm = estimateGaussian(X_train_norm)\n",
    "\n",
    "# construct the distribution with normalized parameters\n",
    "distribution_norm = multivariate_normal(mean=mu_norm, cov=np.diag(sigma2_norm))\n",
    "\n",
    "# predict the labels for the normalized test set\n",
    "y_pred_norm = classify(X_test_norm, distribution_norm)\n",
    "\n",
    "# calculate accuracy, recall, and F1 score for the normalized data\n",
    "\n",
    "accuracy_norm = accuracy_score(y_test, y_pred_norm)\n",
    "precision_norm = precision_score(y_test, y_pred_norm)\n",
    "recall_norm = recall_score(y_test, y_pred_norm)\n",
    "f1_norm = f1_score(y_test, y_pred_norm)\n",
    "\n",
    "print(\"Accuracy after normalization:\", accuracy_norm)\n",
    "print(\"Recall after normalization:\", recall_norm)\n",
    "print(\"F1 score after normalization:\", f1_norm)"
   ]
  },
  {
   "cell_type": "code",
   "execution_count": 6,
   "metadata": {},
   "outputs": [
    {
     "name": "stdout",
     "output_type": "stream",
     "text": [
      "Accuracy after smoothing: 0.19422730006013228\n",
      "Recall after smoothing: 1.0\n",
      "F1 score after smoothing: 0.3252769385699899\n"
     ]
    }
   ],
   "source": [
    "# apply a moving average (smoothing) to the features\n",
    "window_size = 5\n",
    "\n",
    "X_train_smooth = X_train.rolling(window=window_size, min_periods=1, center=True).mean()\n",
    "X_test_smooth = X_test.rolling(window=window_size, min_periods=1, center=True).mean()\n",
    "\n",
    "# fit a multivariate Gaussian distribution to the smoothed normal samples\n",
    "mu_smooth, sigma2_smooth = estimateGaussian(X_train_smooth)\n",
    "\n",
    "# construct the distribution\n",
    "distribution_smooth = multivariate_normal(mean=mu_smooth, cov=np.diag(sigma2_smooth))\n",
    "\n",
    "# predict the labels for the smoothed test set\n",
    "y_pred_smooth = classify(X_test_smooth, distribution_smooth)\n",
    "\n",
    "# calculate accuracy, recall, and F1 score for the normalized data\n",
    "\n",
    "accuracy_smooth = accuracy_score(y_test, y_pred_smooth)\n",
    "recall_smooth = recall_score(y_test, y_pred_smooth)\n",
    "f1_smooth = f1_score(y_test, y_pred_smooth)\n",
    "\n",
    "print(\"Accuracy after smoothing:\", accuracy_smooth)\n",
    "print(\"Recall after smoothing:\", recall_smooth)\n",
    "print(\"F1 score after smoothing:\", f1_smooth)"
   ]
  },
  {
   "cell_type": "code",
   "execution_count": 7,
   "metadata": {},
   "outputs": [
    {
     "name": "stdout",
     "output_type": "stream",
     "text": [
      "Temperature and voltage\n",
      "\n",
      "Accuracy with temperature and voltage: 0.19422730006013228\n",
      "Recall with temperature and voltage: 0.38390092879256965\n",
      "F1 with temperature and voltage: 0.21448648648648647\n",
      "\n",
      "Position and voltage\n",
      "\n",
      "Accuracy with position and voltage: 0.19422730006013228\n",
      "Recall with position and voltage: 1.0\n",
      "F1 with position and voltage: 0.3253178899660078\n",
      "\n",
      "Position and temperature\n",
      "\n",
      "Accuracy with temperature and position: 0.19422730006013228\n",
      "Recall with temperature and position: 1.0\n",
      "F1 with temperature and position: 0.3253178899660078\n"
     ]
    }
   ],
   "source": [
    "#temperature and voltage\n",
    "features_reduced = ['data_motor_1_temperature', 'data_motor_1_voltage']\n",
    "\n",
    "# prepare reduced feature sets\n",
    "X_train_reduced = X_train[features_reduced]\n",
    "X_test_reduced = X_test[features_reduced]\n",
    "\n",
    "# fit a multivariate Gaussian distribution to the reduced normal samples\n",
    "mu_reduced, sigma2_reduced = estimateGaussian(X_train_reduced)\n",
    "\n",
    "# construct the distribution\n",
    "distribution_reduced = multivariate_normal(mean=mu_reduced, cov=np.diag(sigma2_reduced))\n",
    "\n",
    "# predict the labels for the reduced test set\n",
    "y_pred_reduced = classify(X_test_reduced, distribution_reduced)\n",
    "\n",
    "# calculate accuracy, recall, and F1 score for the reduced data\n",
    "accuracy_reduced= accuracy_score(y_test, y_pred_reduced)\n",
    "recall_reduced = recall_score(y_test, y_pred_reduced)\n",
    "f1_reduced = f1_score(y_test, y_pred_reduced)\n",
    "print(\"Temperature and voltage\")\n",
    "print(\"\")\n",
    "print(\"Accuracy with temperature and voltage:\", accuracy_smooth)\n",
    "print(\"Recall with temperature and voltage:\", recall_reduced)\n",
    "print(\"F1 with temperature and voltage:\", f1_reduced)\n",
    "print(\"\")\n",
    "\n",
    "\n",
    "\n",
    "#position and voltage\n",
    "features_reduced = ['data_motor_1_position', 'data_motor_1_voltage']\n",
    "\n",
    "# prepare reduced feature sets\n",
    "X_train_reduced = X_train[features_reduced]\n",
    "X_test_reduced = X_test[features_reduced]\n",
    "\n",
    "# fit a multivariate Gaussian distribution to the reduced normal samples\n",
    "mu_reduced, sigma2_reduced = estimateGaussian(X_train_reduced)\n",
    "\n",
    "# construct the distribution\n",
    "distribution_reduced = multivariate_normal(mean=mu_reduced, cov=np.diag(sigma2_reduced))\n",
    "\n",
    "# predict the labels for the reduced test set\n",
    "y_pred_reduced = classify(X_test_reduced, distribution_reduced)\n",
    "\n",
    "\n",
    "accuracy_reduced= accuracy_score(y_test, y_pred_reduced)\n",
    "recall_reduced = recall_score(y_test, y_pred_reduced)\n",
    "f1_reduced = f1_score(y_test, y_pred_reduced)\n",
    "print(\"Position and voltage\")\n",
    "print(\"\")\n",
    "\n",
    "print(\"Accuracy with position and voltage:\", accuracy_smooth)\n",
    "print(\"Recall with position and voltage:\", recall_reduced)\n",
    "print(\"F1 with position and voltage:\", f1_reduced)\n",
    "print(\"\")\n",
    "\n",
    "\n",
    "\n",
    "#position and temperature\n",
    "features_reduced = ['data_motor_1_position', 'data_motor_1_temperature']\n",
    "\n",
    "# prep reduced feature sets\n",
    "X_train_reduced = X_train[features_reduced]\n",
    "X_test_reduced = X_test[features_reduced]\n",
    "\n",
    "# fit a multivariate Gaussian distribution to the reduced normal samples\n",
    "mu_reduced, sigma2_reduced = estimateGaussian(X_train_reduced)\n",
    "\n",
    "distribution_reduced = multivariate_normal(mean=mu_reduced, cov=np.diag(sigma2_reduced))\n",
    "\n",
    "y_pred_reduced = classify(X_test_reduced, distribution_reduced)\n",
    "\n",
    "\n",
    "# metrics\n",
    "accuracy_reduced= accuracy_score(y_test, y_pred_reduced)\n",
    "recall_reduced = recall_score(y_test, y_pred_reduced)\n",
    "f1_reduced = f1_score(y_test, y_pred_reduced)\n",
    "print(\"Position and temperature\")\n",
    "print(\"\")\n",
    "print(\"Accuracy with temperature and position:\", accuracy_smooth)\n",
    "print(\"Recall with temperature and position:\", recall_reduced)\n",
    "print(\"F1 with temperature and position:\", f1_reduced)"
   ]
  },
  {
   "cell_type": "code",
   "execution_count": 8,
   "metadata": {},
   "outputs": [
    {
     "name": "stdout",
     "output_type": "stream",
     "text": [
      "Best log_epsilon: -100.30\n",
      "Best F1 score: 0.3253\n"
     ]
    },
    {
     "data": {
      "image/png": "[encoded data removed]",
      "text/plain": [
       "<Figure size 640x480 with 1 Axes>"
      ]
     },
     "metadata": {},
     "output_type": "display_data"
    }
   ],
   "source": [
    "from sklearn.metrics import f1_score\n",
    "\n",
    "log_epsilons = np.linspace(-300, 0, 1000)\n",
    "f1_scores = []\n",
    "\n",
    "for log_epsilon in log_epsilons:\n",
    "    y_pred = classify(X_test, distribution, log_epsilon=log_epsilon)\n",
    "    f1 = f1_score(y_test, y_pred)\n",
    "    f1_scores.append(f1)\n",
    "\n",
    "best_idx = np.argmax(f1_scores)\n",
    "best_log_epsilon = log_epsilons[best_idx]\n",
    "best_f1 = f1_scores[best_idx]\n",
    "\n",
    "print(f\"Best log_epsilon: {best_log_epsilon:.2f}\")\n",
    "print(f\"Best F1 score: {best_f1:.4f}\")\n",
    "\n",
    "plt.plot(log_epsilons, f1_scores)\n",
    "plt.xlabel('log_epsilon')\n",
    "plt.ylabel('F1 Score')\n",
    "plt.title('F1 Score vs log_epsilon')\n",
    "plt.show()"
   ]
  },
  {
   "cell_type": "code",
   "execution_count": 9,
   "metadata": {},
   "outputs": [
    {
     "name": "stdout",
     "output_type": "stream",
     "text": [
      "Best log_epsilon (after normalization & feature reduction): -300.00\n",
      "Best F1 score: 0.3253\n"
     ]
    },
    {
     "data": {
      "image/png": "[encoded data removed]",
      "text/plain": [
       "<Figure size 640x480 with 1 Axes>"
      ]
     },
     "metadata": {},
     "output_type": "display_data"
    },
    {
     "name": "stdout",
     "output_type": "stream",
     "text": [
      "Best combined approach:\n",
      "Accuracy:  0.19422730006013228\n",
      "Recall:    1.0\n"
     ]
    }
   ],
   "source": [
    "\n",
    "features_best = ['data_motor_1_position', 'data_motor_1_voltage']\n",
    "X_train_best = X_train_smooth[features_best]\n",
    "X_test_best = X_test_smooth[features_best]\n",
    "\n",
    "# 2. Normalization (after feature selection)\n",
    "scaler_best = StandardScaler()\n",
    "X_train_best_norm = scaler_best.fit_transform(X_train_best)\n",
    "X_test_best_norm = scaler_best.transform(X_test_best)\n",
    "\n",
    "# fit a new distribution on the normalized training data\n",
    "mu_best, sigma2_best = estimateGaussian(X_train_best_norm)\n",
    "from scipy.stats import multivariate_normal\n",
    "distribution_best = multivariate_normal(mean=mu_best, cov=np.diag(sigma2_best))\n",
    "y_pred_best = classify(X_test_best_norm, distribution_best, log_epsilon=best_log_epsilon)\n",
    "\n",
    "# search for the best log_epsilon after normalization and feature reduction\n",
    "log_epsilons_best = np.linspace(-300, 0, 1000)\n",
    "f1_scores_best = []\n",
    "\n",
    "for log_epsilon in log_epsilons_best:\n",
    "    y_pred_tmp = classify(X_test_best_norm, distribution_best, log_epsilon=log_epsilon)\n",
    "    f1_tmp = f1_score(y_test, y_pred_tmp)\n",
    "    f1_scores_best.append(f1_tmp)\n",
    "\n",
    "best_idx_best = np.argmax(f1_scores_best)\n",
    "best_log_epsilon_best = log_epsilons_best[best_idx_best]\n",
    "best_f1_best = f1_scores_best[best_idx_best]\n",
    "\n",
    "print(f\"Best log_epsilon (after normalization & feature reduction): {best_log_epsilon_best:.2f}\")\n",
    "print(f\"Best F1 score: {best_f1_best:.4f}\")\n",
    "\n",
    "plt.plot(log_epsilons_best, f1_scores_best)\n",
    "plt.xlabel('log_epsilon')\n",
    "plt.ylabel('F1 Score')\n",
    "plt.title('F1 Score vs log_epsilon (normalized & reduced features)')\n",
    "plt.show()\n",
    "\n",
    "accuracy_best = accuracy_score(y_test, y_pred_best)\n",
    "precision_best = precision_score(y_test, y_pred_best)\n",
    "recall_best = recall_score(y_test, y_pred_best)\n",
    "\n",
    "print(\"Best combined approach:\")\n",
    "print(f\"Accuracy:  {accuracy_best}\")\n",
    "print(f\"Recall:    {recall_best}\")\n"
   ]
  },
  {
   "cell_type": "markdown",
   "metadata": {},
   "source": [
    "**Conclusion:**\n",
    "\n",
    "Normalization: No improvement — remains the same as the initial value.\n",
    "\n",
    "Smoothing: No improvement — remains the same as the initial value.\n",
    "\n",
    "Feature Reduction: No improvement or degradation in performance.\n",
    "\n",
    "Log Epsilon Value: No improvement or degradation observed.\n",
    "\n",
    "These issues arise due to the use of `multivariate_normal`, which causes the model to focus exclusively on learning from normal samples while ignoring faulty ones. As a result, the model fails to generalize and is ineffective for fault detection. This modeling approach is not suitable.\n"
   ]
  },
  {
   "cell_type": "markdown",
   "metadata": {},
   "source": [
    "## Local outiler factor (LOF)\n",
    "\n",
    "The local outlier factor (LOF) algorithm computes the local density deviation of a given data point with respect to its neighbors. It considers as outliers the samples that have a substantially lower density than their neighbors. You can easiliy implement LOF in scikit-learn ([tutorial](https://www.datatechnotes.com/2020/04/anomaly-detection-with-local-outlier-factor-in-python.html)).\n",
    "\n",
    "Please implement local outlier factor (LOF) algorithm on the dataset of `20240325_155003`. You can try first to detect the failure of motor 1 using this model. Please calculate the accuracy score of your prediction."
   ]
  },
  {
   "cell_type": "code",
   "execution_count": 10,
   "metadata": {},
   "outputs": [
    {
     "name": "stdout",
     "output_type": "stream",
     "text": [
      "LOF Accuracy: 0.7785628382441371\n",
      "LOF Precision: 0.23615160349854228\n",
      "LOF Recall: 0.06269349845201239\n",
      "LOF F1 score: 0.09908256880733944\n"
     ]
    }
   ],
   "source": [
    "from sklearn.neighbors import LocalOutlierFactor\n",
    "from sklearn.metrics import accuracy_score, precision_score, recall_score, f1_score\n",
    "\n",
    "# use the same features as before for motor 1\n",
    "X_lof = X_test\n",
    "\n",
    "# fit the LOF model (unsupervised, so fit on test set)\n",
    "lof = LocalOutlierFactor(n_neighbors=20, contamination='auto')\n",
    "y_pred_lof = lof.fit_predict(X_lof)\n",
    "\n",
    "# LOF outputs -1 for outliers, 1 for inliers; map to 1 (fault) and 0 (normal)\n",
    "y_pred_lof = (y_pred_lof == -1).astype(int)\n",
    "\n",
    "\n",
    "accuracy_lof = accuracy_score(y_test, y_pred_lof)\n",
    "precision_lof = precision_score(y_test, y_pred_lof, zero_division=0)\n",
    "recall_lof = recall_score(y_test, y_pred_lof, zero_division=0)\n",
    "f1_lof = f1_score(y_test, y_pred_lof, zero_division=0)\n",
    "\n",
    "print(\"LOF Accuracy:\", accuracy_lof)\n",
    "print(\"LOF Precision:\", precision_lof)\n",
    "print(\"LOF Recall:\", recall_lof)\n",
    "print(\"LOF F1 score:\", f1_lof)"
   ]
  },
  {
   "cell_type": "markdown",
   "metadata": {},
   "source": [
    "The results demonstrate a substantial improvement compared to previous approaches.\n",
    "\n",
    "The Local Outlier Factor (LOF) method outperforms the multivariate normal model due to its local, non-parametric nature, which allows it to effectively capture the underlying structure and density variations of the data. In contrast, the multivariate normal model relies on global, parametric assumptions, specifically that the data follow a Gaussian distribution — an assumption that is often violated in practical applications. Consequently, LOF provides a more flexible and accurate approach for identifying anomalies."
   ]
  },
  {
   "cell_type": "markdown",
   "metadata": {},
   "source": [
    "# Task 2 Develop a cross validation pipeline to evaluate the performance of the model.\n",
    "\n",
    "The idea of cross validation is to split the data into k subsets and use one of them as the test set and the rest as the training set. The performance of the model is evaluated only on the test dataset, while the model is trained on the training dataset. By doing this, we ensure that the evaluation of the model is independent from the training of the model. Therefore, we can detect if the model is overfitted.\n",
    "\n",
    "## k-fold cross validation\n",
    "\n",
    "Here, we use motor 1 as an example to develop a pipeline for cross validation. Below, you have a script that read the data, extract features and get the labels.\n",
    "\n",
    "1. Use sk-learn to split the data into training and testing sets, using a k-fold cross validation with k=5. (Hint: This is a routine task which can be answered easily by language models like chatgpt. You can try prompt like this: `Generate a code in python to split the data X and y into training and testing sets, using a k-fold cross validation with k=5.`)\n",
    "2. Then, train a basic logistic regression model, without hyper-parameter tuning on the training set, and use the testing set to evaluate the performance of the model (calculate accuracy, precision, recall, and F1 score). \n",
    "3. Finally, train a logistic regression model, but use the entire dataset X and y as training data. Then, use the trained model to predict the labels of the same dataset (X). Compare the results with the previous step, and discuss why we should use cross validation to evaluate the performance of the model."
   ]
  },
  {
   "cell_type": "code",
   "execution_count": 11,
   "metadata": {},
   "outputs": [
    {
     "ename": "NameError",
     "evalue": "name 'X' is not defined",
     "output_type": "error",
     "traceback": [
      "\u001b[0;31m---------------------------------------------------------------------------\u001b[0m",
      "\u001b[0;31mNameError\u001b[0m                                 Traceback (most recent call last)",
      "Cell \u001b[0;32mIn[11], line 14\u001b[0m\n\u001b[1;32m     11\u001b[0m recalls \u001b[38;5;241m=\u001b[39m []\n\u001b[1;32m     12\u001b[0m f1s \u001b[38;5;241m=\u001b[39m []\n\u001b[0;32m---> 14\u001b[0m \u001b[38;5;28;01mfor\u001b[39;00m train_index, test_index \u001b[38;5;129;01min\u001b[39;00m kf\u001b[38;5;241m.\u001b[39msplit(X):\n\u001b[1;32m     15\u001b[0m     X_train_cv, X_test_cv \u001b[38;5;241m=\u001b[39m X\u001b[38;5;241m.\u001b[39miloc[train_index], X\u001b[38;5;241m.\u001b[39miloc[test_index]\n\u001b[1;32m     16\u001b[0m     y_train_cv, y_test_cv \u001b[38;5;241m=\u001b[39m y\u001b[38;5;241m.\u001b[39miloc[train_index], y\u001b[38;5;241m.\u001b[39miloc[test_index]\n",
      "\u001b[0;31mNameError\u001b[0m: name 'X' is not defined"
     ]
    }
   ],
   "source": [
    "from sklearn.linear_model import LogisticRegression\n",
    "from sklearn.model_selection import KFold\n",
    "from sklearn.metrics import accuracy_score, precision_score, recall_score, f1_score\n",
    "import numpy as np\n",
    "\n",
    "# Set up 5-fold cross-validation\n",
    "kf = KFold(n_splits=5, shuffle=True, random_state=42)\n",
    "\n",
    "accuracies = []\n",
    "precisions = []\n",
    "recalls = []\n",
    "f1s = []\n",
    "\n",
    "for train_index, test_index in kf.split(X):\n",
    "    X_train_cv, X_test_cv = X.iloc[train_index], X.iloc[test_index]\n",
    "    y_train_cv, y_test_cv = y.iloc[train_index], y.iloc[test_index]\n",
    "    \n",
    "    model = LogisticRegression(max_iter=1000)\n",
    "    model.fit(X_train_cv, y_train_cv)\n",
    "    y_pred_cv = model.predict(X_test_cv)\n",
    "    \n",
    "    accuracies.append(accuracy_score(y_test_cv, y_pred_cv))\n",
    "    precisions.append(precision_score(y_test_cv, y_pred_cv, zero_division=0))\n",
    "    recalls.append(recall_score(y_test_cv, y_pred_cv, zero_division=0))\n",
    "    f1s.append(f1_score(y_test_cv, y_pred_cv, zero_division=0))\n",
    "\n",
    "print(\"Cross-validated results (mean over 5 folds):\")\n",
    "print(f\"Accuracy:  {np.mean(accuracies):.4f}\")\n",
    "print(f\"Precision: {np.mean(precisions):.4f}\")\n",
    "print(f\"Recall:    {np.mean(recalls):.4f}\")\n",
    "print(f\"F1 score:  {np.mean(f1s):.4f}\")\n",
    "\n",
    "# Train and evaluate on the whole dataset \n",
    "model_full = LogisticRegression(max_iter=1000)\n",
    "model_full.fit(X, y)\n",
    "y_pred_full = model_full.predict(X)\n",
    "\n",
    "print(\"\\nResults when training and testing on the same data:\")\n",
    "print(f\"Accuracy:  {accuracy_score(y, y_pred_full):.4f}\")\n",
    "print(f\"Precision: {precision_score(y, y_pred_full, zero_division=0):.4f}\")\n",
    "print(f\"Recall:    {recall_score(y, y_pred_full, zero_division=0):.4f}\")\n",
    "print(f\"F1 score:  {f1_score(y, y_pred_full, zero_division=0):.4f}\")\n"
   ]
  },
  {
   "cell_type": "markdown",
   "metadata": {},
   "source": [
    "**Discussion:**\n",
    "\n",
    "The cross-validated results reveal a high overall accuracy of approximately 96.5%, yet the model exhibits zero precision, recall, and F1 score. This outcome indicates that the model consistently classifies all instances as belonging to the majority class (normal, label 0), thereby failing to identify any fault instances (label 1). This behavior is indicative of a severe class imbalance, where the model becomes biased toward the dominant class and is unable to generalize to minority class examples.\n",
    "\n",
    "Moreover, when the model is trained and evaluated on the same dataset, the performance metrics remain virtually unchanged. This further suggests that the model is not genuinely learning to detect faults, but rather is memorizing the characteristics of the majority class.\n",
    "\n",
    "Key Considerations:\n",
    "- High accuracy can be misleading in the presence of class imbalance; in such cases, precision, recall, and F1 score provide a more accurate assessment of model performance, particularly for fault detection tasks.\n",
    "- Cross-validation offers a more robust and realistic evaluation of model generalization and is essential for identifying issues such as overfitting.\n"
   ]
  },
  {
   "cell_type": "markdown",
   "metadata": {},
   "source": []
  },
  {
   "cell_type": "markdown",
   "metadata": {},
   "source": [
    "# Task 3: Develop classification-based fault detection models\n",
    "\n",
    "In this task, you are supposed to experiment different classification-based fault detection models to get best F1 score. Please use the 5-fold cross-validation to calculate the best F1 score. You are free to try different models, whether they are discussed in the class or not. To simply your work, you can use the models existed in [scikit-learn](https://scikit-learn.org/stable/supervised_learning.html).\n",
    "\n",
    "Please report all the models you tried, how to you tune their hyperparameters, and the corresponding F1 score. Please note that if you would like to tune the hyperparameter, you can use the `GridSearchCv` function in scikit-learn, but you should use it only on the training dataset."
   ]
  },
  {
   "cell_type": "markdown",
   "metadata": {},
   "source": [
    "## Logistic regression"
   ]
  },
  {
   "cell_type": "code",
   "execution_count": 20,
   "metadata": {},
   "outputs": [
    {
     "name": "stdout",
     "output_type": "stream",
     "text": [
      "\n",
      "Training Logistic Regression...\n",
      "\n",
      "Training Random Forest...\n",
      "\n",
      "Training SVM (RBF)...\n",
      "\n",
      "Training KNN...\n",
      "\n",
      "Training Gradient Boosting...\n",
      "\n",
      "Summary of Cross-Validation Results:\n",
      "                 Model  Accuracy  Precision    Recall        F1\n",
      "0  Logistic Regression  0.884405   0.915863  0.445180  0.595923\n",
      "1        Random Forest  0.974626   0.937869  0.932520  0.934304\n",
      "2            SVM (RBF)  0.918226   0.878544  0.696283  0.761328\n",
      "3                  KNN  0.963332   0.927528  0.883856  0.902924\n",
      "4    Gradient Boosting  0.972748   0.937631  0.922880  0.929447\n"
     ]
    }
   ],
   "source": [
    "\n",
    "from sklearn.model_selection import train_test_split, cross_validate, GridSearchCV\n",
    "from sklearn.metrics import classification_report, confusion_matrix\n",
    "from sklearn.preprocessing import StandardScaler\n",
    "from sklearn.pipeline import Pipeline\n",
    "from sklearn.linear_model import LogisticRegression\n",
    "from sklearn.ensemble import RandomForestClassifier, GradientBoostingClassifier\n",
    "from sklearn.svm import SVC\n",
    "from sklearn.neighbors import KNeighborsClassifier\n",
    "from sklearn.datasets import make_classification\n",
    "X = X_test #using X_test dataset because it has more than one class\n",
    "y = y_test\n",
    "\n",
    "X_train, X_test, y_train, y_test = train_test_split(X, y, stratify=y, test_size=0.2, random_state=42)\n",
    "\n",
    "models = {\n",
    "    \"Logistic Regression\": (LogisticRegression(max_iter=1000), {\n",
    "        'classifier__C': [0.01, 0.1, 1, 10]\n",
    "    }),\n",
    "    \"Random Forest\": (RandomForestClassifier(), {\n",
    "        'classifier__n_estimators': [100, 200],\n",
    "        'classifier__max_depth': [None, 10, 20]\n",
    "    }),\n",
    "    \"SVM (RBF)\": (SVC(), {\n",
    "        'classifier__C': [0.1, 1, 10],\n",
    "        'classifier__gamma': ['scale', 0.01, 0.001]\n",
    "    }),\n",
    "    \"KNN\": (KNeighborsClassifier(), {\n",
    "        'classifier__n_neighbors': [3, 5, 7]\n",
    "    }),\n",
    "    \"Gradient Boosting\": (GradientBoostingClassifier(), {\n",
    "        'classifier__n_estimators': [100, 200],\n",
    "        'classifier__learning_rate': [0.01, 0.1]\n",
    "    }),\n",
    "}\n",
    "\n",
    "results = []\n",
    "scaler = StandardScaler()\n",
    "for name, (model, params) in models.items():\n",
    "    print(f\"\\nTraining {name}...\")\n",
    "    pipeline = Pipeline([\n",
    "        ('scaler', scaler),\n",
    "        ('classifier', model)\n",
    "    ])\n",
    "    grid = GridSearchCV(pipeline, params, cv=5, scoring='f1', n_jobs=-1)\n",
    "    grid.fit(X_train, y_train)\n",
    "\n",
    "    best_model = grid.best_estimator_\n",
    "    cv_scores = cross_validate(best_model, X_train, y_train, cv=5, \n",
    "                               scoring=['accuracy', 'precision', 'recall', 'f1'])\n",
    "\n",
    "    results.append({\n",
    "        'Model': name,\n",
    "        'Accuracy': np.mean(cv_scores['test_accuracy']),\n",
    "        'Precision': np.mean(cv_scores['test_precision']),\n",
    "        'Recall': np.mean(cv_scores['test_recall']),\n",
    "        'F1': np.mean(cv_scores['test_f1'])\n",
    "    })\n",
    "\n",
    "\n",
    "results_df = pd.DataFrame(results)\n",
    "print(\"\\nSummary of Cross-Validation Results:\")\n",
    "print(results_df)\n"
   ]
  },
  {
   "cell_type": "markdown",
   "metadata": {},
   "source": [
    "In Task 3, we developed classification-based fault detection models using 5-fold cross-validation to optimize the F1 score. We tested five models: Logistic Regression, Random Forest, Support Vector Machine (SVM), K-Nearest Neighbors (KNN), and Gradient Boosting. Each model was integrated into a pipeline with standard scaling, and hyperparameters were tuned using GridSearchCV on the training folds only.\n",
    "\n",
    "For Logistic Regression, we tuned the regularization parameter C, achieving a mean F1 score of 0.595923.\n",
    "For Random Forest, we tuned the number of estimators and maximum tree depth, yielding a higher F1 score of 0.934304.\n",
    "The SVM (with RBF kernel) was tuned for C and gamma, resulting in an F1 score of 0.761328.\n",
    "KNN was evaluated with varying n_neighbors, reaching an F1 score of 0.902924.\n",
    "Gradient Boosting used tuned n_estimators and learning_rate, and achieved a mean F1 score of 0.929447.\n",
    "\n",
    "Overall, Random Forest was the most effective model for fault detection in this task."
   ]
  },
  {
   "cell_type": "markdown",
   "metadata": {},
   "source": [
    "## Summary of the results\n",
    "\n",
    "Please add a table in the end, summarying the results from all the models (including the unsupervised learning models). Please write a few texts to explain what is the best model you got, its performance, and how could you further improve it.\n",
    "\n",
    "| Model   | Accuracy | Precision | Recall | F1   |\n",
    "|---------|----------|-----------|--------|------|\n",
    "| Model 1 |   XX.X%  |   XX.X%   |  XX.X% | XX.X%|\n",
    "| Model 2 |   XX.X%  |   XX.X%   |  XX.X% | XX.X%|\n",
    "| Model 3 |   XX.X%  |   XX.X%   |  XX.X% | XX.X%|\n"
   ]
  },
  {
   "cell_type": "markdown",
   "metadata": {},
   "source": [
    "In Task 3, we developed classification-based fault detection models using 5-fold cross-validation, targeting F1 score as the key performance metric due to the dataset's class imbalance. Five supervised models were evaluated: Logistic Regression, Random Forest, SVM (RBF), K-Nearest Neighbors (KNN), and Gradient Boosting. Each model was embedded in a preprocessing pipeline with standard scaling, and hyperparameters were tuned using GridSearchCV on the training data only.\n",
    "\n",
    "Logistic Regression (tuned C) had an F1 score of 0.596.\n",
    "\n",
    "Random Forest (tuned n_estimators, max_depth) achieved the best performance, with an F1 score of 0.934, indicating strong fault detection capabilities.\n",
    "\n",
    "SVM (RBF) (tuned C, gamma) had moderate performance with an F1 score of 0.761.\n",
    "\n",
    "KNN (tuned n_neighbors) showed high performance, with an F1 score of 0.903.\n",
    "\n",
    "Gradient Boosting (tuned n_estimators, learning_rate) was also effective, with an F1 score of 0.929, close to Random Forest.\n",
    "\n",
    "In addition, unsupervised methods from Task 1 were evaluated:\n",
    "\n",
    "Multivariate Gaussian modeling gave an F1 score of 0.325.\n",
    "\n",
    "Local Outlier Factor (LOF) produced an F1 score of 0.099.\n",
    "\n",
    "These unsupervised models are useful when labels are unavailable but likely performed poorly due to high false positives.\n",
    "\n",
    "Best Model and Recommendations:\n",
    "The Random Forest model emerged as the best-performing classifier with an F1 score of 0.934, balancing high precision and recall. To further improve, we could:\n",
    "\n",
    "Apply class weighting or SMOTE to address class imbalance more effectively.\n",
    "\n",
    "Explore ensemble stacking or advanced models like XGBoost.\n",
    "\n",
    "Consider feature selection or domain-informed feature engineering.\n",
    "\n",
    "| Model                     | Accuracy | Precision | Recall | F1     |\n",
    "|---------------------------|----------|-----------|--------|--------|\n",
    "| Multivariate Gaussian     | 19.4%    | 19.4%     | 100.0% | 32.5%  |\n",
    "| Local Outlier Factor (LOF)| 77.9%    | 23.6%     | 6.3%   | 9.9%   |\n",
    "| Logistic Regression       | 88.4%    | 91.6%     | 44.5%  | 59.6%  |\n",
    "| Random Forest             | 97.5%    | 93.8%     | 93.3%  | 93.4%  |\n",
    "| SVM (RBF)                 | 91.8%    | 87.9%     | 69.6%  | 76.1%  |\n",
    "| K-Nearest Neighbors (KNN) | 96.3%    | 92.8%     | 88.4%  | 90.3%  |\n",
    "| Gradient Boosting         | 97.3%    | 93.8%     | 92.3%  | 92.9%  |\n"
   ]
  },
  {
   "cell_type": "code",
   "execution_count": null,
   "metadata": {},
   "outputs": [],
   "source": []
  }
 ],
 "metadata": {
  "kernelspec": {
   "display_name": "Python 3 (ipykernel)",
   "language": "python",
   "name": "python3"
  },
  "language_info": {
   "codemirror_mode": {
    "name": "ipython",
    "version": 3
   },
   "file_extension": ".py",
   "mimetype": "text/x-python",
   "name": "python",
   "nbconvert_exporter": "python",
   "pygments_lexer": "ipython3",
   "version": "3.9.20"
  }
 },
 "nbformat": 4,
 "nbformat_minor": 2
}
